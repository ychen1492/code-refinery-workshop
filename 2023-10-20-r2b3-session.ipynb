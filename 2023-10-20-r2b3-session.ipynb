{
 "cells": [
  {
   "cell_type": "code",
   "execution_count": null,
   "id": "085fc5d3",
   "metadata": {},
   "outputs": [],
   "source": [
    "import pandas as pd\n",
    "import numpy as np\n",
    "import matplotlib.pyplot as plt\n",
    "import seaborn as sns\n",
    "import itertools"
   ]
  },
  {
   "cell_type": "code",
   "execution_count": null,
   "id": "2f05fe08",
   "metadata": {},
   "outputs": [],
   "source": [
    "# This is a comment\n",
    "''' \n",
    "These are multiple lines of comments. \n",
    "If you want to have multiple lines of comments\n",
    "'''\n",
    "\n",
    "# Create variables\n",
    "a = 3\n",
    "print(a)"
   ]
  },
  {
   "cell_type": "code",
   "execution_count": null,
   "id": "11ae5c36",
   "metadata": {},
   "outputs": [],
   "source": [
    "b = 2\n",
    "print(b)"
   ]
  },
  {
   "cell_type": "code",
   "execution_count": null,
   "id": "12d6bee4",
   "metadata": {},
   "outputs": [],
   "source": [
    "c = a + b\n",
    "print(c)"
   ]
  },
  {
   "cell_type": "code",
   "execution_count": null,
   "id": "0874cf6a",
   "metadata": {},
   "outputs": [],
   "source": [
    "# String variables\n",
    "str1 = \"This is a string variable\"\n",
    "print(str1)"
   ]
  },
  {
   "cell_type": "code",
   "execution_count": null,
   "id": "5bb47771",
   "metadata": {},
   "outputs": [],
   "source": [
    "# Create a sequence of numbers - using the function range\n",
    "range1 = range(1,10,1)\n",
    "print(range1)\n",
    "\n",
    "# convert a range object to a list\n",
    "range1 = list(range(1,10,1))\n",
    "print(range1)"
   ]
  },
  {
   "cell_type": "code",
   "execution_count": null,
   "id": "51dc9b47",
   "metadata": {},
   "outputs": [],
   "source": [
    "# Create a sequence of numbers - using numpy\n",
    "range2 = np.linspace(1,10,50)\n",
    "print(range2)"
   ]
  },
  {
   "cell_type": "code",
   "execution_count": null,
   "id": "ef6896d2",
   "metadata": {},
   "outputs": [],
   "source": [
    "# Create repeating values\n",
    "# List in python \n",
    "list1 = [1]\n",
    "\n",
    "# Create repeating values by multiplying a list with a number \n",
    "rep_list1 = 10*list1\n",
    "rep_list1\n",
    "\n",
    "# Multiply a lis by a number\n",
    "np.multiply(2,rep_list1)"
   ]
  },
  {
   "cell_type": "code",
   "execution_count": null,
   "id": "60e63a7c",
   "metadata": {},
   "outputs": [],
   "source": [
    "#rpeating values using itertools function repeat\n",
    "list(itertools.repeat(1,10))"
   ]
  },
  {
   "cell_type": "code",
   "execution_count": null,
   "id": "c9a8cd6e",
   "metadata": {},
   "outputs": [],
   "source": [
    "# Lambda functions\n",
    "lambda x:x*2\n",
    "\n",
    "\n",
    "'''\n",
    "using the map(function,object): applies function to the object. For example using a lambda function that doubles\n",
    "the input and applies that to a specific number\n",
    "'''\n",
    "\n",
    "a = [1,2,3,4,5,6]\n",
    "print(a)\n",
    "\n",
    "# apply a doubling function using the map function\n",
    "\n",
    "list(map(lambda x:x*2,a))"
   ]
  },
  {
   "cell_type": "code",
   "execution_count": null,
   "id": "fd2db28c",
   "metadata": {},
   "outputs": [],
   "source": [
    "a = np.linspace(1,10,10)\n",
    "print(a)\n",
    "\n",
    "# Access a certain element - indices start at 0\n",
    "a[0] = 1.2\n",
    "\n",
    "print(a)\n",
    "\n",
    "#changes multiples values based on indices\n",
    "a[[1,2,3]] = [0,0,0]\n",
    "print(a)"
   ]
  },
  {
   "cell_type": "code",
   "execution_count": null,
   "id": "a97eee5d",
   "metadata": {},
   "outputs": [],
   "source": [
    "a = list(range(1,10,1))\n",
    "print(a)\n",
    "\n",
    "# Add a new entry\n",
    "a.append(10)\n",
    "\n",
    "print(a)\n"
   ]
  },
  {
   "cell_type": "code",
   "execution_count": null,
   "id": "0703d019",
   "metadata": {},
   "outputs": [],
   "source": [
    "#Delete elements from a list\n",
    "a = list(range(1,10,1))\n",
    "\n",
    "# Remove a certain value from a list\n",
    "a.remove(3)\n",
    "\n",
    "print(a)\n",
    "\n",
    "# Remove by index\n",
    "del a[0:4]\n",
    "\n",
    "print(a)"
   ]
  },
  {
   "cell_type": "code",
   "execution_count": null,
   "id": "5d47ba68",
   "metadata": {},
   "outputs": [],
   "source": [
    "# Dictionaries \n",
    "'''\n",
    "Objects that contain key-value pairs. \n",
    "'''\n",
    "\n",
    "dict1 = {\"var1\":1,\n",
    "        \"var2\":2,\n",
    "        \"var3\":3}\n",
    "\n",
    "print(dict1)\n",
    "\n",
    "#access an element - by using the name of the key\n",
    "dict1[\"var2\"]"
   ]
  },
  {
   "cell_type": "code",
   "execution_count": null,
   "id": "2a1a18e8",
   "metadata": {},
   "outputs": [],
   "source": [
    "#create a dictionary with a list\n",
    "dict2 = {\"list1\":[1,2,3,4,5],\"list2\":[2]}\n",
    "\n",
    "dict2[\"list2\"] = [1,1,1,1,1]\n",
    "\n",
    "# Add a new key value pair\n",
    "dict2[\"list3\"] = [0,0,0,0]\n",
    "\n",
    "print(dict2)\n",
    "\n",
    "# delete a key value pair from a dictionary\n",
    "dict2.pop(\"list1\")\n",
    "\n",
    "print(dict2)"
   ]
  },
  {
   "cell_type": "code",
   "execution_count": null,
   "id": "3eb47ef6",
   "metadata": {},
   "outputs": [],
   "source": [
    "'''\n",
    "Exercise 1\n",
    "1. Create a dictionary that has the following items: \n",
    "    - a list of integers from 1 to 10\n",
    "    - a list of 10 floats betwee 0 and 1\n",
    "    - a list with the word \"one\" repeated 20 times\n",
    "2. Add the following item to the dictionary:\n",
    "    - a list of 10 random integers between 0 and 10\n",
    "3. Change one of the key names\n",
    "'''"
   ]
  },
  {
   "cell_type": "code",
   "execution_count": null,
   "id": "a9e1624b",
   "metadata": {},
   "outputs": [],
   "source": [
    "dict1 = {\"list1\":list(range(1,10)),\n",
    "        \"list2\":np.linspace(0,1,10).tolist(),\n",
    "        \"list3\":['one']*20}\n",
    "\n",
    "print(dict1)\n",
    "\n",
    "# add random\n",
    "dict1[\"list4\"] = np.random.randint(0,10,10)\n",
    "\n",
    "# change a key \n",
    "dict1[\"random_integers\"] = dict1.pop(\"list4\")\n",
    "\n",
    "# check the keys\n",
    "list(dict1.keys())"
   ]
  },
  {
   "cell_type": "code",
   "execution_count": null,
   "id": "921fd12d",
   "metadata": {},
   "outputs": [],
   "source": [
    "# Function in python\n",
    "def myfunction(a):\n",
    "    return 2*a\n",
    "\n",
    "myfunction(1)"
   ]
  },
  {
   "cell_type": "code",
   "execution_count": null,
   "id": "6f2041d6",
   "metadata": {},
   "outputs": [],
   "source": [
    "# Function in python\n",
    "def myfunction(a):\n",
    "    return 2*a\n",
    "# The function definition has 1 argument. So if you try to give it multiple arguments, it will give an error\n",
    "myfunction(1)"
   ]
  },
  {
   "cell_type": "code",
   "execution_count": null,
   "id": "1e9a019e",
   "metadata": {},
   "outputs": [],
   "source": [
    "# Using *args in function definition is way to have flexibiliy in how many arguments you can use as input\n",
    "def myfunction(a,b,*args):\n",
    "    print(a,b)\n",
    "    print(args)\n",
    "\n",
    "# This is a simple function, that only prints the inputs\n",
    "myfunction(1,2,3,4,5,6,7)"
   ]
  },
  {
   "cell_type": "code",
   "execution_count": null,
   "id": "7d8580d9",
   "metadata": {},
   "outputs": [],
   "source": [
    "#function with keyword arguments\n",
    "def myfunction(a,b,*args,keyword = True,**kwargs):\n",
    "    print(a,b)\n",
    "    print(args)\n",
    "    print(keyword)\n",
    "    print(kwargs)\n",
    "    \n",
    "\n",
    "myfunction(1,2,3,4, keyword = False,value = True, case = \"new\")"
   ]
  },
  {
   "cell_type": "code",
   "execution_count": null,
   "id": "5c1853f5",
   "metadata": {},
   "outputs": [],
   "source": [
    "'''\n",
    "Exercise 2\n",
    "Write a function that takes as argument:\n",
    "    - Three specific numbers\n",
    "    - Any list of numbers \n",
    "    - A dictionary of parameters\n",
    "Print all the values of the entries\n",
    "'''"
   ]
  },
  {
   "cell_type": "code",
   "execution_count": null,
   "id": "d24eaf0c",
   "metadata": {},
   "outputs": [],
   "source": [
    "# Possible solution\n",
    "def function(a,b,c,*args,**kwargs):\n",
    "    print(a,b,c)\n",
    "    print(args)\n",
    "    print(kwargs)\n",
    "    \n",
    "\n",
    "d = {\"param1\":40, \"param2\":41}\n",
    "\n",
    "function(1,2,3,10,20,30,40,50,param3=42,**d)"
   ]
  },
  {
   "cell_type": "code",
   "execution_count": null,
   "id": "562f78ce",
   "metadata": {},
   "outputs": [],
   "source": [
    "# Data frames in pandas\n",
    "# Create a data frame from a dictionary, and if you import a file (csv) you can put that into a data frame\n",
    "\n",
    "\n",
    "# Dictionary\n",
    "dict1 = {\"col1\":[1,2,3],\n",
    "        \"col2\":[1,2,3],\n",
    "        \"col3\":[1,2,3]}\n",
    "\n",
    "# Convert to a dataframe\n",
    "\n",
    "df = pd.DataFrame(dict1)\n",
    "\n",
    "df"
   ]
  },
  {
   "cell_type": "code",
   "execution_count": null,
   "id": "6b98cd13",
   "metadata": {},
   "outputs": [],
   "source": [
    "'''\n",
    "Exercise 3\n",
    "Create a pandas dataframe that has\n",
    "    - A column of 20 random integers between 1 and 20\n",
    "    - A column of 20 random integers between 1 and 5\n",
    "    - A column that is a linear combination of column 1 and 2\n",
    "    - A column that that takes column 3 and applies a mathemactical function to it\n",
    "    - Change the names of the columns\n",
    "'''"
   ]
  },
  {
   "cell_type": "code",
   "execution_count": null,
   "id": "12c29d78",
   "metadata": {},
   "outputs": [],
   "source": [
    "# Create the values\n",
    "col1 = np.random.randint(1,20,20)\n",
    "col2 = np.random.randint(1,5,20)\n",
    "col3 = 0.002*col1 + 0.004*col2\n",
    "col4 = np.exp(col3)\n",
    "\n",
    "# Create a dict\n",
    "dict1 = {\"col1\":col1,\n",
    "        \"col2\":col2,\n",
    "        \"col3\":col3,\n",
    "        \"col4\":col4}\n",
    "\n",
    "# Dataframe\n",
    "df = pd.DataFrame(dict1)\n",
    "df"
   ]
  },
  {
   "cell_type": "code",
   "execution_count": null,
   "id": "62151047",
   "metadata": {},
   "outputs": [],
   "source": [
    "# Create the values\n",
    "col1 = np.random.randint(1,20,20)\n",
    "col2 = np.random.randint(1,5,20)\n",
    "col3 = 0.002*col1 + 0.004*col2\n",
    "col4 = np.exp(col3)\n",
    "\n",
    "# Dataframe\n",
    "df = pd.DataFrame(list(zip(col1,col2,col3,col4)))\n",
    "\n",
    "\n",
    "df.rename(columns = {0:\"var1\",1:\"var2\",2:\"var3\", 3:\"var4\"},inplace = True)\n",
    "df"
   ]
  },
  {
   "cell_type": "code",
   "execution_count": null,
   "id": "d51915b9",
   "metadata": {},
   "outputs": [],
   "source": [
    "df = pd.read_csv(\"chick_weight.csv\")"
   ]
  },
  {
   "cell_type": "code",
   "execution_count": null,
   "id": "07009e79",
   "metadata": {},
   "outputs": [],
   "source": [
    "df"
   ]
  },
  {
   "cell_type": "code",
   "execution_count": null,
   "id": "3b24ac71",
   "metadata": {},
   "outputs": [],
   "source": [
    "# describe - summary statistics\n",
    "df.describe()"
   ]
  },
  {
   "cell_type": "code",
   "execution_count": null,
   "id": "4a80cee8",
   "metadata": {},
   "outputs": [],
   "source": [
    "(df\n",
    ".groupby('Chick')\n",
    ".agg(mean_weight = ('weight','mean')))"
   ]
  },
  {
   "cell_type": "code",
   "execution_count": null,
   "id": "76b21439",
   "metadata": {},
   "outputs": [],
   "source": [
    "'''\n",
    "Exercise 5\n",
    "Using the ChickWeight dataset\n",
    "    - Compute the mean and variance of the weight per chicken.\n",
    "    - Compute the mean and variance of the weight per diet.\n",
    "    - Compute the standard deviation my taking the square root of the variance already computed\n",
    "'''"
   ]
  },
  {
   "cell_type": "code",
   "execution_count": null,
   "id": "3977f961",
   "metadata": {},
   "outputs": [],
   "source": [
    "# Per Chicken\n",
    "\n",
    "(df\n",
    ".groupby('Chick')\n",
    ".agg(mean_weight = ('weight','mean'),var_weight = ('weight','var'))\n",
    ".assign(sd_weight = lambda x:np.sqrt(x['var_weight']))\n",
    ".reset_index())"
   ]
  },
  {
   "cell_type": "code",
   "execution_count": null,
   "id": "bbc0c292",
   "metadata": {},
   "outputs": [],
   "source": [
    "# Per Diet\n",
    "(df\n",
    ".groupby('Diet')\n",
    ".agg(mean_weight = ('weight','mean'),var_weight = ('weight','var'),min_weight = (\"weight\",\"min\"))\n",
    ".assign(sd_weight = lambda x:np.sqrt(x['var_weight']))\n",
    ".reset_index())"
   ]
  },
  {
   "cell_type": "code",
   "execution_count": null,
   "id": "97e6fa4c",
   "metadata": {},
   "outputs": [],
   "source": [
    "sns.pairplot(df)"
   ]
  },
  {
   "cell_type": "code",
   "execution_count": null,
   "id": "75b2f69e",
   "metadata": {},
   "outputs": [],
   "source": [
    "df_plot = (\n",
    "    df.assign(Diet = lambda d: d['Diet'].astype('category'))\n",
    ")\n",
    "\n",
    "sns.scatterplot(data=df_plot, x='Time', y='weight', alpha=0.5, hue='Diet')"
   ]
  },
  {
   "cell_type": "code",
   "execution_count": null,
   "id": "6dcb6594",
   "metadata": {},
   "outputs": [],
   "source": [
    "sns.jointplot(data=df_plot, x='Time', y='weight', alpha=0.25, color='g')"
   ]
  },
  {
   "cell_type": "code",
   "execution_count": null,
   "id": "96420400",
   "metadata": {},
   "outputs": [],
   "source": [
    "df.dtypes"
   ]
  },
  {
   "cell_type": "code",
   "execution_count": null,
   "id": "b6919bba",
   "metadata": {},
   "outputs": [],
   "source": [
    "sns.lineplot(data=df\n",
    "             .assign(Chick = lambda d: d['Chick'].astype('category')), \n",
    "             x='Time', \n",
    "             y='weight',\n",
    "             hue='Chick', \n",
    "             alpha=0.24,\n",
    "             estimator='std',\n",
    "             legend=False)"
   ]
  },
  {
   "cell_type": "code",
   "execution_count": null,
   "id": "e0c1c190",
   "metadata": {},
   "outputs": [],
   "source": [
    "ids = (df\n",
    ".groupby('Chick')\n",
    ".agg(max_time=('Time', 'max'))\n",
    ".loc[lambda d: d['max_time'] == 21]\n",
    ".index\n",
    ".tolist()\n",
    ")\n",
    "\n",
    "# filter dataframe\n",
    "df_filtered = (\n",
    "    df.loc[lambda d:d['Chick'].isin(ids)]\n",
    ")\n",
    "\n",
    "# plot\n",
    "sns.lineplot(data=df_filtered\n",
    "             .assign(Chick = lambda d: d['Chick'].astype('category')), \n",
    "             x='Time', \n",
    "             y='weight',\n",
    "             hue='Chick', \n",
    "             alpha=0.24,\n",
    "             estimator='std',\n",
    "             legend=False)"
   ]
  },
  {
   "cell_type": "code",
   "execution_count": null,
   "id": "631ab88d",
   "metadata": {},
   "outputs": [],
   "source": [
    "sns.lineplot(data=df_filtered\n",
    "             .assign(Diet = lambda d: d['Diet'].astype('category')), \n",
    "             x='Time', \n",
    "             y='weight',\n",
    "            #  alpha=0.24,\n",
    "             estimator='mean',\n",
    "             hue='Diet',\n",
    "             err_style = 'band',\n",
    "             errorbar=('ci', 70)\n",
    "             )"
   ]
  },
  {
   "cell_type": "code",
   "execution_count": null,
   "id": "191b30b7",
   "metadata": {},
   "outputs": [],
   "source": [
    "sns.relplot(data=df_filtered\n",
    "             .assign(Diet = lambda d: d['Diet'].astype('category'))\n",
    "             .assign(Feed = lambda d: d['Diet']), \n",
    "             x='Time', \n",
    "             y='weight',\n",
    "            #  alpha=0.24,\n",
    "            #  estimator='mean',\n",
    "             kind='line',\n",
    "             hue='Diet',\n",
    "             err_style = 'band',\n",
    "             col = 'Diet',\n",
    "             row = 'Feed',\n",
    "             errorbar=('ci', 70)\n",
    "             )"
   ]
  },
  {
   "cell_type": "code",
   "execution_count": null,
   "id": "336dbe95",
   "metadata": {},
   "outputs": [],
   "source": [
    "df_agg = (df_filtered\n",
    ".groupby(['Diet','Time'])\n",
    ".agg(mean_weight = ('weight','mean'),var_weight = ('weight','var'))\n",
    ".assign(sd_weight = lambda x:np.sqrt(x['var_weight']))\n",
    ".reset_index())\n",
    "df_agg.head()"
   ]
  },
  {
   "cell_type": "code",
   "execution_count": null,
   "id": "bfe0e6c9",
   "metadata": {},
   "outputs": [],
   "source": [
    "def mutate_df(dataf):\n",
    "    result = (dataf.assign(Diet_2 = lambda d: d['Diet']))\n",
    "    return result\n",
    "\n",
    "(df\n",
    " .pipe(mutate_df))"
   ]
  },
  {
   "cell_type": "code",
   "execution_count": null,
   "id": "de379143",
   "metadata": {},
   "outputs": [],
   "source": [
    "def clean_names(dataf):\n",
    "    return dataf.rename(columns=str.lower)\n",
    "\n",
    "def clean_data(dataf):\n",
    "    return dataf.dropna()\n",
    "\n",
    "def update_a_dataframe(dataf, group, var_name, list_of_functions):\n",
    "\n",
    "    result = (dataf\n",
    "              .groupby(group)\n",
    "              .agg({var_name:list_of_functions}))\n",
    "    return result\n",
    "\n",
    "def plot_data(data_f,x,y,hue):\n",
    "    return sns.lineplot(data=data_f, x=x, y=y, hue=hue)"
   ]
  },
  {
   "cell_type": "code",
   "execution_count": null,
   "id": "57610373",
   "metadata": {},
   "outputs": [],
   "source": [
    "# update_a_dataframe(dataf=df_filtered, group='Chick', var_name='weight',list_of_functions=['max','min','mean','var'])\n",
    "(df_filtered\n",
    " .pipe(clean_names)\n",
    " .pipe(clean_data)\n",
    " .pipe(update_a_dataframe, group=['diet','time'], var_name='weight',list_of_functions=['max','min','mean','var'])\n",
    " .pipe(plot_data, 'time', ('weight','mean'), 'diet'))\n"
   ]
  },
  {
   "cell_type": "code",
   "execution_count": null,
   "id": "8186a92f",
   "metadata": {},
   "outputs": [],
   "source": []
  }
 ],
 "metadata": {
  "kernelspec": {
   "display_name": "general_3.8",
   "language": "python",
   "name": "general_3.8"
  },
  "language_info": {
   "codemirror_mode": {
    "name": "ipython",
    "version": 3
   },
   "file_extension": ".py",
   "mimetype": "text/x-python",
   "name": "python",
   "nbconvert_exporter": "python",
   "pygments_lexer": "ipython3",
   "version": "3.8.16"
  }
 },
 "nbformat": 4,
 "nbformat_minor": 5
}
